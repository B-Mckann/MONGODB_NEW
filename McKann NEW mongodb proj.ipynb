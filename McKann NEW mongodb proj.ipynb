{
 "cells": [
  {
   "cell_type": "code",
   "execution_count": 2,
   "id": "175bccf1",
   "metadata": {},
   "outputs": [
    {
     "name": "stdout",
     "output_type": "stream",
     "text": [
      "Collecting mongo\n",
      "  Downloading mongo-0.2.0.tar.gz (4.6 kB)\n",
      "  Preparing metadata (setup.py): started\n",
      "  Preparing metadata (setup.py): finished with status 'done'\n",
      "Collecting pymongo\n",
      "  Downloading pymongo-4.3.3-cp39-cp39-win_amd64.whl (382 kB)\n",
      "     -------------------------------------- 382.5/382.5 kB 2.4 MB/s eta 0:00:00\n",
      "Collecting dnspython<3.0.0,>=1.16.0\n",
      "  Downloading dnspython-2.2.1-py3-none-any.whl (269 kB)\n",
      "     -------------------------------------- 269.1/269.1 kB 5.5 MB/s eta 0:00:00\n",
      "Building wheels for collected packages: mongo\n",
      "  Building wheel for mongo (setup.py): started\n",
      "  Building wheel for mongo (setup.py): finished with status 'done'\n",
      "  Created wheel for mongo: filename=mongo-0.2.0-py3-none-any.whl size=4935 sha256=243e658103bd04f9fdac73c369a5edfe03e30615ee4bc13817f1fa5152f36972\n",
      "  Stored in directory: c:\\users\\britt\\appdata\\local\\pip\\cache\\wheels\\da\\c4\\f9\\f5fb27468b22997d044041d1d75d282a27762bd2157903b8ca\n",
      "Successfully built mongo\n",
      "Installing collected packages: dnspython, pymongo, mongo\n",
      "Successfully installed dnspython-2.2.1 mongo-0.2.0 pymongo-4.3.3\n",
      "Note: you may need to restart the kernel to use updated packages.\n"
     ]
    }
   ],
   "source": [
    "pip install mongo\n"
   ]
  },
  {
   "cell_type": "markdown",
   "id": "9f9072c3",
   "metadata": {},
   "source": [
    "# What are the total sales per Region?"
   ]
  },
  {
   "cell_type": "code",
   "execution_count": 2,
   "id": "a8e0d179",
   "metadata": {},
   "outputs": [
    {
     "name": "stdout",
     "output_type": "stream",
     "text": [
      "{'_id': {'Region': 'West'}, 'Total_sales': 710219.68}\n",
      "{'_id': {'Region': 'East'}, 'Total_sales': 669518.73}\n",
      "{'_id': {'Region': 'Central'}, 'Total_sales': 492646.91}\n",
      "{'_id': {'Region': 'South'}, 'Total_sales': 389151.46}\n"
     ]
    }
   ],
   "source": [
    "from pymongo import MongoClient\n",
    "# Requires the PyMongo package.\n",
    "# https://api.mongodb.com/python/current\n",
    "\n",
    "client = MongoClient('mongodb://localhost:27017/')\n",
    "result = client['NEW_Capstone_Proj']['SuperStore'].aggregate([\n",
    "    {\n",
    "        '$group': {\n",
    "            '_id': {\n",
    "                'Region': '$Region'\n",
    "            }, \n",
    "            'Total_sales': {\n",
    "                '$sum': '$Sales'\n",
    "            }\n",
    "        }\n",
    "    }, {\n",
    "        '$sort': {\n",
    "            'Total_sales': -1\n",
    "        }\n",
    "    }, {\n",
    "        '$project': {\n",
    "            'Total_sales': {\n",
    "                '$round': [\n",
    "                    '$Total_sales', 2\n",
    "                ]\n",
    "            }\n",
    "        }\n",
    "    }\n",
    "])\n",
    "for doc in result:\n",
    "        print(doc)"
   ]
  },
  {
   "cell_type": "markdown",
   "id": "990463fc",
   "metadata": {},
   "source": [
    "# Who are the top 10 customers based on total sales? How many times did they order and what was their average order amount?"
   ]
  },
  {
   "cell_type": "code",
   "execution_count": 20,
   "id": "9395799c",
   "metadata": {},
   "outputs": [
    {
     "name": "stdout",
     "output_type": "stream",
     "text": [
      "{'_id': {'Customer_id': 'SM-20320', 'Customer': 'Sean Miller'}, 'Total_sales_by_customer': 25043.05, 'No_of_orders': 15, 'Avg_order_total': 1669.54}\n",
      "{'_id': {'Customer_id': 'TC-20980', 'Customer': 'Tamara Chand'}, 'Total_sales_by_customer': 19052.22, 'No_of_orders': 12, 'Avg_order_total': 1587.68}\n",
      "{'_id': {'Customer_id': 'RB-19360', 'Customer': 'Raymond Buch'}, 'Total_sales_by_customer': 15117.34, 'No_of_orders': 18, 'Avg_order_total': 839.85}\n",
      "{'_id': {'Customer_id': 'TA-21385', 'Customer': 'Tom Ashbrook'}, 'Total_sales_by_customer': 14595.62, 'No_of_orders': 10, 'Avg_order_total': 1459.56}\n",
      "{'_id': {'Customer_id': 'AB-10105', 'Customer': 'Adrian Barton'}, 'Total_sales_by_customer': 14473.57, 'No_of_orders': 20, 'Avg_order_total': 723.68}\n",
      "{'_id': {'Customer_id': 'KL-16645', 'Customer': 'Ken Lonsdale'}, 'Total_sales_by_customer': 14175.23, 'No_of_orders': 29, 'Avg_order_total': 488.8}\n",
      "{'_id': {'Customer_id': 'SC-20095', 'Customer': 'Sanjit Chand'}, 'Total_sales_by_customer': 14142.33, 'No_of_orders': 22, 'Avg_order_total': 642.83}\n",
      "{'_id': {'Customer_id': 'HL-15040', 'Customer': 'Hunter Lopez'}, 'Total_sales_by_customer': 12873.3, 'No_of_orders': 11, 'Avg_order_total': 1170.3}\n",
      "{'_id': {'Customer_id': 'SE-20110', 'Customer': 'Sanjit Engle'}, 'Total_sales_by_customer': 12209.44, 'No_of_orders': 19, 'Avg_order_total': 642.6}\n",
      "{'_id': {'Customer_id': 'CC-12370', 'Customer': 'Christopher Conant'}, 'Total_sales_by_customer': 12129.07, 'No_of_orders': 11, 'Avg_order_total': 1102.64}\n"
     ]
    }
   ],
   "source": [
    "from pymongo import MongoClient\n",
    "# Requires the PyMongo package.\n",
    "# https://api.mongodb.com/python/current\n",
    "\n",
    "client = MongoClient('mongodb://localhost:27017/')\n",
    "result = client['NEW_Capstone_Proj']['SuperStore'].aggregate([\n",
    "    {\n",
    "        '$group': {\n",
    "            '_id': {\n",
    "                'Customer_id': '$Customer ID', \n",
    "                'Customer': '$Customer Name'\n",
    "            }, \n",
    "            'Total_sales_by_customer': {\n",
    "                '$sum': '$Sales'\n",
    "            }, \n",
    "            'No_of_orders': {\n",
    "                '$sum': 1\n",
    "            }, \n",
    "            'Avg_order_total': {\n",
    "                '$avg': '$Sales'\n",
    "            }\n",
    "        }\n",
    "    }, {\n",
    "        '$sort': {\n",
    "            'Total_sales_by_customer': -1\n",
    "        }\n",
    "    }, {\n",
    "        '$limit': 10\n",
    "    }, {\n",
    "        '$project': {\n",
    "            'Total_sales_by_customer': {\n",
    "                '$round': [\n",
    "                    '$Total_sales_by_customer', 2\n",
    "                ]\n",
    "            }, \n",
    "            'No_of_orders': {\n",
    "                '$round': [\n",
    "                    '$No_of_orders', 2\n",
    "                ]\n",
    "            }, \n",
    "            'Avg_order_total': {\n",
    "                '$round': [\n",
    "                    '$Avg_order_total', 2\n",
    "                ]\n",
    "            }\n",
    "        }\n",
    "    }\n",
    "])\n",
    "for doc in result:\n",
    "        print(doc)"
   ]
  },
  {
   "cell_type": "code",
   "execution_count": null,
   "id": "2536872c",
   "metadata": {},
   "outputs": [],
   "source": []
  }
 ],
 "metadata": {
  "kernelspec": {
   "display_name": "Python 3 (ipykernel)",
   "language": "python",
   "name": "python3"
  },
  "language_info": {
   "codemirror_mode": {
    "name": "ipython",
    "version": 3
   },
   "file_extension": ".py",
   "mimetype": "text/x-python",
   "name": "python",
   "nbconvert_exporter": "python",
   "pygments_lexer": "ipython3",
   "version": "3.9.13"
  }
 },
 "nbformat": 4,
 "nbformat_minor": 5
}
